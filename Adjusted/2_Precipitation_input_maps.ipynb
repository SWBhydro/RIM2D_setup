{
 "cells": [
  {
   "cell_type": "code",
   "execution_count": null,
   "id": "d3855455",
   "metadata": {},
   "outputs": [],
   "source": [
    "import netCDF4 as nc\n",
    "import numpy as np\n",
    "import rioxarray\n",
    "import xarray\n",
    "import rasterio\n",
    "from rasterio import features\n",
    "from rasterio.plot import show\n",
    "import geopandas as gpd\n",
    "import os\n",
    "# from osgeo import gdal\n",
    "import datetime\n",
    "import time"
   ]
  },
  {
   "cell_type": "markdown",
   "id": "58381e88",
   "metadata": {},
   "source": [
    "### Input definitions"
   ]
  },
  {
   "cell_type": "code",
   "execution_count": null,
   "id": "efc0e5ea",
   "metadata": {},
   "outputs": [],
   "source": [
    "Res='8m'\n",
    "\n",
    "WD = 'C:/Users/siepb/Documents/Studie_Hydrology/ThesisGeul/'\n",
    "WD_INPUT = f'{WD}Inputmaps_{Res}/'\n",
    "Sim_Domain = f'{WD_INPUT}SimDomain_{Res}.asc'\n",
    "\n",
    "# Raw precipitation files. \n",
    "Path_Raw_Precip= f'{WD}Raw_Precipitation/KNMI_1km_EM_nc/RAD_NL25_RAC_MFBS_EM_5min_' # path without the timestamp and the fleformat at the end\n",
    "File_format_Precip = '.nc'\n",
    "\n",
    "# Ready input files for the model\n",
    "Filename_Input_Precip = 'Precip_5min_KNMI_FilledWithMean_' # path without number or file format (whic will be .asc) \n",
    "\n",
    "NO_DATA = -9999\n",
    "\n",
    "with rasterio.open(f'{Sim_Domain}') as proj_outline:\n",
    "    kwargs = proj_outline.profile\n",
    "    PROJECT_CRS = proj_outline.crs\n",
    "    PROJECT_TRANSFORM = proj_outline.transform\n",
    "    PROJECT_WIDTH = proj_outline.width\n",
    "    PROJECT_HEIGHT = proj_outline.height\n",
    "    PROJECT_SHAPE = proj_outline.shape\n",
    "proj_outline.close()"
   ]
  },
  {
   "cell_type": "markdown",
   "id": "ddaab395",
   "metadata": {},
   "source": [
    "### Creating list with time steps and definition of resampling function"
   ]
  },
  {
   "cell_type": "code",
   "execution_count": null,
   "id": "a1418a21",
   "metadata": {},
   "outputs": [],
   "source": [
    "# Selecting the timespan for files\n",
    "start_time = '202107150000'\n",
    "end_time = '202107152355'\n",
    "\n",
    "# Setting the timestep between precip files\n",
    "timespan = 5\n",
    "\n",
    "# Date for output file only\n",
    "date = '13_140721'\n",
    "\n",
    "#\n",
    "timestep = datetime.timedelta(minutes = timespan)\n",
    "\n",
    "start_time = datetime.datetime.strptime( start_time, '%Y%m%d%H%M' )\n",
    "end_time = datetime.datetime.strptime( end_time, '%Y%m%d%H%M' )\n",
    "\n",
    "t = start_time\n",
    "time_list = []\n",
    "while t <= end_time:\n",
    "    time_str = datetime.datetime.strftime(t, '%Y%m%d%H%M')\n",
    "    time_list.append(time_str)\n",
    "    t += timestep\n",
    "    \n",
    "# print(time_list[0:4])\n",
    "print(proj_outline)"
   ]
  },
  {
   "cell_type": "markdown",
   "id": "f20d433c",
   "metadata": {},
   "source": [
    "#### Function definition for resampling\n",
    "\n",
    "In the cell below, rioxarray is used instead of rasterio, because rasterio does not handle the .nc files properly. All files are opened and resampled to match the simulation domain. Subsequently, the nodata parts (the southern region of the catchment is not covered by the KNMI precipitation data) of the precipitation files are filled with the mean precipitation that fell in the complete simulation domain. Lastly the file is saved to an .asc file."
   ]
  },
  {
   "cell_type": "code",
   "execution_count": null,
   "id": "7accbd7f",
   "metadata": {},
   "outputs": [],
   "source": [
    "def PrecipReprojResamp(Input_Prec, Output_Prec, Domain_To_Match):\n",
    "    with rioxarray.open_rasterio(Input_Prec, \n",
    "                                 'r',\n",
    "                                 mask_and_scale=True).rio.reproject_match(Domain_To_Match,  \n",
    "                                                                           Resampling = 'nearest', \n",
    "                                                                           dtype = 'float32', \n",
    "                                                                           nodata = NO_DATA,\n",
    "                                                                           ) as clipped:\n",
    "        # filling nodata values with the mean\n",
    "        array = clipped.data\n",
    "        mean_prec = (np.mean(array[array > NO_DATA]))\n",
    "        array[array == NO_DATA] = mean_prec      \n",
    "        \n",
    "        with rasterio.open( f'{Output_Prec}', \n",
    "                            'w',\n",
    "                            **kwargs,\n",
    "                            DECIMAL_PRECISION=3,\n",
    "                            ) as dst:\n",
    "                            dst.write(array)"
   ]
  },
  {
   "cell_type": "markdown",
   "id": "62a115b3",
   "metadata": {},
   "source": [
    "#### Running the resampling file\n",
    "\n",
    "The 'Num' variable can be adjusted to start numbering at a different number. For the RIM2D model, numbering starts at 1."
   ]
  },
  {
   "cell_type": "code",
   "execution_count": null,
   "id": "ea153de0",
   "metadata": {},
   "outputs": [],
   "source": [
    "DEM_match = rioxarray.open_rasterio(f'{Sim_Domain}')\n",
    "Num = 1\n",
    "\n",
    "\n",
    "tic = time.perf_counter()\n",
    "\n",
    "for i in range(len(time_list)):\n",
    "    nc_input = f'{Path_Raw_Precip}{time_list[i]}{File_format_Precip}'\n",
    "    asc_output = f'{WD_INPUT}/rain/Rain_{date}/{Filename_Input_Precip}{date}_{Num}.asc'\n",
    "    PrecipReprojResamp(nc_input, asc_output, DEM_match)\n",
    "    Num = Num+1      \n",
    "\n",
    "toc = time.perf_counter()\n",
    "print(f'Time to tun = {toc-tic:0.4f} seconds')"
   ]
  },
  {
   "cell_type": "markdown",
   "id": "077ffd70",
   "metadata": {},
   "source": [
    "### Calculating summed precip per day"
   ]
  },
  {
   "cell_type": "code",
   "execution_count": null,
   "id": "d0998b3d",
   "metadata": {},
   "outputs": [],
   "source": [
    "def precip_per_day(date, real_date, filenum):\n",
    "    with rasterio.open(f'{WD_INPUT}rain/Rain_{date}/Precip_5min_KNMI_FilledWithMean_{date}_{filenum[0]}.asc') as dst_prec:\n",
    "        print(f'{filenum[0]}')\n",
    "        sum_prec = dst_prec.read(1)\n",
    "        \n",
    "        kwargs = dst_prec.profile\n",
    "        \n",
    "    for i in range(filenum[0]+1, filenum[1]):\n",
    "        with rasterio.open(f'{WD_INPUT}rain/Rain_{date}/Precip_5min_KNMI_FilledWithMean_{date}_{i}.asc') as dst_prec:\n",
    "            arr_prec = dst_prec.read(1)\n",
    "            sum_prec = sum_prec + arr_prec\n",
    "            print(i)\n",
    "    \n",
    "    show(sum_prec, cmap= 'Blues')\n",
    "    \n",
    "    with rasterio.open(f'{WD_INPUT}rain/Summed_rain_{real_date}.asc', 'w', **kwargs) as dst:\n",
    "        dst.write(sum_prec, indexes = 1)      "
   ]
  },
  {
   "cell_type": "code",
   "execution_count": null,
   "id": "cde0311b",
   "metadata": {},
   "outputs": [],
   "source": [
    "filerange = [217,289]\n",
    "\n",
    "folder_date = '120721'\n",
    "real_date = '12_07_21'\n",
    "precip_per_day(folder_date, real_date, filerange)"
   ]
  },
  {
   "cell_type": "markdown",
   "id": "40897b59",
   "metadata": {},
   "source": [
    "### Part below is to rename files, ONLY RUN IF NEED TO ADJUST\n",
    "\n",
    "The RIM2D model always starts with precipitation file number one and counts upwarts. So when running a new timespan or different days, there might be a need to adjust the filename sof exiting precipitation data instead of re-running the resampling code above. The method of renaming the files is namely a lot faster. However, there is a risk of making mistakes and mixing up files, so be carefull!"
   ]
  },
  {
   "cell_type": "code",
   "execution_count": 2,
   "id": "ae5d108c",
   "metadata": {},
   "outputs": [],
   "source": [
    "old_date = '160721'\n",
    "new_date = '13_14_15_160721'\n",
    "\n",
    "num=1\n",
    "for i in range(865, 1153):\n",
    "    old_name_asc = f'{WD_INPUT}rain/Rain_{old_date}/Precip_5min_KNMI_FilledWithMean_{old_date}_{num}.asc'\n",
    "    old_name_prj = f'{WD_INPUT}rain/Rain_{old_date}/Precip_5min_KNMI_FilledWithMean_{old_date}_{num}.prj'\n",
    "    num = num+1\n",
    "#     print(old_name_asc)\n",
    "    new_name_asc = f'{WD_INPUT}rain/Rain_{new_date}/Precip_5min_KNMI_FilledWithMean_{new_date}_{i}.asc'\n",
    "    new_name_prj = f'{WD_INPUT}rain/Rain_{new_date}/Precip_5min_KNMI_FilledWithMean_{new_date}_{i}.prj'\n",
    "    os.rename(old_name_asc, new_name_asc)\n",
    "    os.rename(old_name_prj, new_name_prj)\n",
    "    \n",
    "#     print(new_name)"
   ]
  }
 ],
 "metadata": {
  "kernelspec": {
   "display_name": "Python 3 (ipykernel)",
   "language": "python",
   "name": "python3"
  },
  "language_info": {
   "codemirror_mode": {
    "name": "ipython",
    "version": 3
   },
   "file_extension": ".py",
   "mimetype": "text/x-python",
   "name": "python",
   "nbconvert_exporter": "python",
   "pygments_lexer": "ipython3",
   "version": "3.8.10"
  }
 },
 "nbformat": 4,
 "nbformat_minor": 5
}
