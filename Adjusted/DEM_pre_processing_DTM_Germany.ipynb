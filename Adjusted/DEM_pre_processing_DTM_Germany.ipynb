{
 "cells": [
  {
   "cell_type": "markdown",
   "id": "ad44933c",
   "metadata": {},
   "source": [
    "### Info\n",
    "Author: S. Bakker\n",
    "\n",
    "Date: January 2023"
   ]
  },
  {
   "cell_type": "markdown",
   "id": "3df1d088",
   "metadata": {},
   "source": [
    "#### Importing packages and setting project data based on DEM"
   ]
  },
  {
   "cell_type": "code",
   "execution_count": 2,
   "id": "0d48814d",
   "metadata": {},
   "outputs": [],
   "source": [
    "import os\n",
    "import gzip\n",
    "import shutil\n",
    "import rasterio\n",
    "from rasterio.merge import merge\n",
    "from rasterio.plot import show\n",
    "import numpy as np\n",
    "from rasterio.warp import reproject, Resampling, calculate_default_transform\n",
    "\n",
    "NO_DATA = -9999"
   ]
  },
  {
   "cell_type": "code",
   "execution_count": 3,
   "id": "89f078ed",
   "metadata": {},
   "outputs": [],
   "source": [
    "WD = 'C:/Users/siepb/Documents/Studie_Hydrology/ThesisGeul/Raw_DEM/DEM_HighRes/Germany/'\n",
    "WD_XYZ = f'{WD}xyz/'\n",
    "WD_TIF = f'{WD}tif/'\n",
    "\n",
    "small_tiles = os.listdir(WD_XYZ)\n",
    "small_tiles = ([s.strip('.xyz.gz') for s in small_tiles])"
   ]
  },
  {
   "cell_type": "code",
   "execution_count": 55,
   "id": "4894e6fe",
   "metadata": {},
   "outputs": [],
   "source": [
    "for tile in small_tiles:\n",
    "    with gzip.open(f'{WD_XYZ}{tile}.xyz.gz', 'rb') as open_xyz:\n",
    "        with rasterio.open(open_xyz) as open_raster:\n",
    "            with rasterio.open(f'{WD_TIF}{tile}.tif', \n",
    "                               'w',\n",
    "                                driver = 'GTiff',\n",
    "                               dtype = 'float32',\n",
    "                               width = open_raster.width,\n",
    "                               height = open_raster.height,\n",
    "                               count=1,\n",
    "                               crs = open_raster.crs,\n",
    "                               transform = open_raster.transform) as write_xyz:\n",
    "                write_xyz.write(open_raster.read(1), indexes = 1)"
   ]
  },
  {
   "cell_type": "code",
   "execution_count": 2,
   "id": "424e4d6d",
   "metadata": {},
   "outputs": [
    {
     "ename": "NameError",
     "evalue": "name 'rasterio' is not defined",
     "output_type": "error",
     "traceback": [
      "\u001b[1;31m---------------------------------------------------------------------------\u001b[0m",
      "\u001b[1;31mNameError\u001b[0m                                 Traceback (most recent call last)",
      "\u001b[1;32m~\\AppData\\Local\\Temp/ipykernel_1968/887526475.py\u001b[0m in \u001b[0;36m<module>\u001b[1;34m\u001b[0m\n\u001b[0;32m      1\u001b[0m \u001b[1;31m# Creating an initial file to add the other tiles to\u001b[0m\u001b[1;33m\u001b[0m\u001b[1;33m\u001b[0m\u001b[1;33m\u001b[0m\u001b[0m\n\u001b[1;32m----> 2\u001b[1;33m \u001b[1;32mwith\u001b[0m \u001b[0mrasterio\u001b[0m\u001b[1;33m.\u001b[0m\u001b[0mopen\u001b[0m\u001b[1;33m(\u001b[0m\u001b[1;34mf'{WD_TIF}{small_tiles[0]}.tif'\u001b[0m\u001b[1;33m,\u001b[0m \u001b[1;34m'r'\u001b[0m\u001b[1;33m)\u001b[0m \u001b[1;32mas\u001b[0m \u001b[0mras\u001b[0m\u001b[1;33m:\u001b[0m\u001b[1;33m\u001b[0m\u001b[1;33m\u001b[0m\u001b[0m\n\u001b[0m\u001b[0;32m      3\u001b[0m     \u001b[0marray\u001b[0m \u001b[1;33m=\u001b[0m \u001b[0mras\u001b[0m\u001b[1;33m.\u001b[0m\u001b[0mread\u001b[0m\u001b[1;33m(\u001b[0m\u001b[1;36m1\u001b[0m\u001b[1;33m)\u001b[0m\u001b[1;33m\u001b[0m\u001b[1;33m\u001b[0m\u001b[0m\n\u001b[0;32m      4\u001b[0m     with rasterio.open(f'{WD}GER_mergedfile.tif', \n\u001b[0;32m      5\u001b[0m                        \u001b[1;34m'w'\u001b[0m\u001b[1;33m,\u001b[0m\u001b[1;33m\u001b[0m\u001b[1;33m\u001b[0m\u001b[0m\n",
      "\u001b[1;31mNameError\u001b[0m: name 'rasterio' is not defined"
     ]
    }
   ],
   "source": [
    "# Creating an initial file to add the other tiles to\n",
    "with rasterio.open(f'{WD_TIF}{small_tiles[0]}.tif', 'r') as ras:\n",
    "    array = ras.read(1)\n",
    "    with rasterio.open(f'{WD}GER_mergedfile.tif', \n",
    "                       'w', \n",
    "                       driver = 'GTiff',\n",
    "                       dtype = 'float32',\n",
    "                       height = ras.height,\n",
    "                       width = ras.width,\n",
    "                       count= 1,\n",
    "                       crs = ras.crs,\n",
    "                       transform = ras.transform,\n",
    "                      ) as dst:\n",
    "        dst.write(array, indexes = 1)\n",
    "\n",
    "        \n",
    "# |Adding the tiles one by one (highly inefficient so takes a lot of time, but effective)      \n",
    "for i in range(1, (len(small_tiles))):\n",
    "    with rasterio.open(f'{WD}GER_mergedfile.tif', 'r') as ras_1:\n",
    "        with rasterio.open(f'{WD_TIF}{small_tiles[i]}.tif', 'r') as ras_2:\n",
    "            merged, trans = merge([ras_1, ras_2], nodata = NO_DATA)\n",
    "            \n",
    "    with rasterio.open(f'{WD}GER_mergedfile.tif', \n",
    "                       'w', \n",
    "                       driver = 'GTiff',\n",
    "                       dtype = 'float32',\n",
    "                       height = merged.shape[1],\n",
    "                       width = merged.shape[2],\n",
    "                       count= 1,\n",
    "                       crs = ras_1.crs,\n",
    "                       transform = trans,\n",
    "                       nodata = NO_DATA\n",
    "                      ) as dst:\n",
    "        dst.write(merged)"
   ]
  }
 ],
 "metadata": {
  "kernelspec": {
   "display_name": "Python 3 (ipykernel)",
   "language": "python",
   "name": "python3"
  },
  "language_info": {
   "codemirror_mode": {
    "name": "ipython",
    "version": 3
   },
   "file_extension": ".py",
   "mimetype": "text/x-python",
   "name": "python",
   "nbconvert_exporter": "python",
   "pygments_lexer": "ipython3",
   "version": "3.8.10"
  }
 },
 "nbformat": 4,
 "nbformat_minor": 5
}
