{
 "cells": [
  {
   "cell_type": "markdown",
   "id": "b8d36d21",
   "metadata": {},
   "source": [
    "### Info\n",
    "Author: S. Bakker\n",
    "\n",
    "Date: January 2023"
   ]
  },
  {
   "cell_type": "markdown",
   "id": "2b7e0a46",
   "metadata": {},
   "source": [
    "#### Importing packages and setting project data based on DEM"
   ]
  },
  {
   "cell_type": "code",
   "execution_count": 3,
   "id": "68a667d9",
   "metadata": {},
   "outputs": [
    {
     "name": "stdout",
     "output_type": "stream",
     "text": [
      "PROJCS[\"ETRS89_ETRS_LAEA\",GEOGCS[\"ETRS89\",DATUM[\"European_Terrestrial_Reference_System_1989\",SPHEROID[\"GRS 1980\",6378137,298.257222101004,AUTHORITY[\"EPSG\",\"7019\"]],AUTHORITY[\"EPSG\",\"6258\"]],PRIMEM[\"Greenwich\",0],UNIT[\"Degree\",0.0174532925199433]],PROJECTION[\"Lambert_Azimuthal_Equal_Area\"],PARAMETER[\"latitude_of_center\",52],PARAMETER[\"longitude_of_center\",10],PARAMETER[\"false_easting\",4321000],PARAMETER[\"false_northing\",3210000],UNIT[\"metre\",1,AUTHORITY[\"EPSG\",\"9001\"]],AXIS[\"Easting\",EAST],AXIS[\"Northing\",NORTH]]\n"
     ]
    }
   ],
   "source": [
    "import os\n",
    "import gzip\n",
    "import shutil\n",
    "import rasterio\n",
    "from rasterio.merge import merge\n",
    "from rasterio.plot import show\n",
    "from rasterio.fill import fillnodata\n",
    "import numpy as np\n",
    "# from rasterio.warp import reproject, Resampling, calculate_default_transform\n",
    "\n",
    "WD_INPUT = 'C:/Users/siepb/Documents/Studie_Hydrology/ThesisGeul/Inputmaps_5m/'\n",
    "sim_domain = 'SimDomain_5m.asc'\n",
    "\n",
    "NO_DATA = -9999\n"
   ]
  },
  {
   "cell_type": "code",
   "execution_count": 2,
   "id": "f32cc53c",
   "metadata": {},
   "outputs": [
    {
     "name": "stdout",
     "output_type": "stream",
     "text": [
      "['M_68DZ1.TIF', 'M_69AN2.TIF', 'M_69BN1.TIF', 'M_69BN2.TIF', 'M_69BZ1.TIF', 'M_69BZ2.TIF', 'M_69DN2.TIF', 'M_69EN1.TIF', 'M_69EZ1.TIF', 'M_69EZ2.TIF', 'M_69GN1.TIF', 'M_69GN2.TIF', 'NoDataM_68DZ1.TIF', 'NoDataM_69AN2.TIF', 'NoDataM_69BN1.TIF', 'NoDataM_69BN2.TIF', 'NoDataM_69BZ1.TIF', 'NoDataM_69BZ2.TIF', 'NoDataM_69DN2.TIF', 'NoDataM_69EN1.TIF', 'NoDataM_69EZ1.TIF', 'NoDataM_69EZ2.TIF', 'NoDataM_69GN1.TIF', 'NoDataM_69GN2.TIF']\n"
     ]
    }
   ],
   "source": [
    "WD = 'C:/Users/siepb/Documents/Studie_Hydrology/ThesisGeul/Raw_DEM/DEM_HighRes/Netherlands/'\n",
    "WD_tiles = 'C:/Users/siepb/Documents/Studie_Hydrology/ThesisGeul/Raw_DEM/DEM_HighRes/Netherlands/Loose_tiles/'\n",
    "\n",
    "small_tiles = os.listdir(WD_tiles)\n",
    "print(small_tiles)"
   ]
  },
  {
   "cell_type": "markdown",
   "id": "6378273c",
   "metadata": {},
   "source": [
    "### Making nodata -9999 so that the file can be float32 isntead of float64 \n",
    "This makes running the next steps a lot quicker (otherwise they would be possible due to size of the files) "
   ]
  },
  {
   "cell_type": "code",
   "execution_count": 14,
   "id": "de9ff453",
   "metadata": {},
   "outputs": [],
   "source": [
    "for i in range(1, (len(small_tiles))):\n",
    "    with rasterio.open(f'{WD_tiles}{small_tiles[i]}', 'r') as ras:\n",
    "        array = ras.read(1)\n",
    "        array = np.where(array == ras.nodata, NO_DATA, array)\n",
    "    with rasterio.open(f'{WD_tiles}NoData{small_tiles[i]}', \n",
    "                   'w', \n",
    "                   driver = 'GTiff',\n",
    "                   dtype = 'float32',\n",
    "                   height = ras.height,\n",
    "                   width = ras.width,\n",
    "                   count= 1,\n",
    "                   crs = ras.crs,\n",
    "                   transform = ras.transform,\n",
    "                  nodata = NO_DATA) as dst:\n",
    "        dst.write(array, indexes = 1)"
   ]
  },
  {
   "cell_type": "code",
   "execution_count": 3,
   "id": "93042ee0",
   "metadata": {},
   "outputs": [
    {
     "ename": "RasterioIOError",
     "evalue": "C:/Users/siepb/Documents/Studie_Hydrology/ThesisGeul/Raw_DEM/DEM_HighRes/Netherlands/Loose_tiles/NoDataNoDataM_68DZ1.TIF: No such file or directory",
     "output_type": "error",
     "traceback": [
      "\u001b[1;31m---------------------------------------------------------------------------\u001b[0m",
      "\u001b[1;31mCPLE_OpenFailedError\u001b[0m                      Traceback (most recent call last)",
      "\u001b[1;32mrasterio\\_base.pyx\u001b[0m in \u001b[0;36mrasterio._base.DatasetBase.__init__\u001b[1;34m()\u001b[0m\n",
      "\u001b[1;32mrasterio\\_shim.pyx\u001b[0m in \u001b[0;36mrasterio._shim.open_dataset\u001b[1;34m()\u001b[0m\n",
      "\u001b[1;32mrasterio\\_err.pyx\u001b[0m in \u001b[0;36mrasterio._err.exc_wrap_pointer\u001b[1;34m()\u001b[0m\n",
      "\u001b[1;31mCPLE_OpenFailedError\u001b[0m: C:/Users/siepb/Documents/Studie_Hydrology/ThesisGeul/Raw_DEM/DEM_HighRes/Netherlands/Loose_tiles/NoDataNoDataM_68DZ1.TIF: No such file or directory",
      "\nDuring handling of the above exception, another exception occurred:\n",
      "\u001b[1;31mRasterioIOError\u001b[0m                           Traceback (most recent call last)",
      "\u001b[1;32m~\\AppData\\Local\\Temp/ipykernel_19684/4106967597.py\u001b[0m in \u001b[0;36m<module>\u001b[1;34m\u001b[0m\n\u001b[0;32m     16\u001b[0m \u001b[1;32mfor\u001b[0m \u001b[0mi\u001b[0m \u001b[1;32min\u001b[0m \u001b[0mrange\u001b[0m\u001b[1;33m(\u001b[0m\u001b[1;36m1\u001b[0m\u001b[1;33m,\u001b[0m \u001b[1;33m(\u001b[0m\u001b[0mlen\u001b[0m\u001b[1;33m(\u001b[0m\u001b[0msmall_tiles\u001b[0m\u001b[1;33m)\u001b[0m\u001b[1;33m)\u001b[0m\u001b[1;33m)\u001b[0m\u001b[1;33m:\u001b[0m\u001b[1;33m\u001b[0m\u001b[1;33m\u001b[0m\u001b[0m\n\u001b[0;32m     17\u001b[0m     \u001b[1;32mwith\u001b[0m \u001b[0mrasterio\u001b[0m\u001b[1;33m.\u001b[0m\u001b[0mopen\u001b[0m\u001b[1;33m(\u001b[0m\u001b[1;34mf'{WD}NL_Mergedfile.tif'\u001b[0m\u001b[1;33m,\u001b[0m \u001b[1;34m'r'\u001b[0m\u001b[1;33m,\u001b[0m \u001b[0mdtype\u001b[0m \u001b[1;33m=\u001b[0m \u001b[1;34m'float32'\u001b[0m\u001b[1;33m)\u001b[0m \u001b[1;32mas\u001b[0m \u001b[0mras_1\u001b[0m\u001b[1;33m:\u001b[0m\u001b[1;33m\u001b[0m\u001b[1;33m\u001b[0m\u001b[0m\n\u001b[1;32m---> 18\u001b[1;33m         \u001b[1;32mwith\u001b[0m \u001b[0mrasterio\u001b[0m\u001b[1;33m.\u001b[0m\u001b[0mopen\u001b[0m\u001b[1;33m(\u001b[0m\u001b[1;34mf'{WD_tiles}NoData{small_tiles[i]}'\u001b[0m\u001b[1;33m,\u001b[0m \u001b[1;34m'r'\u001b[0m\u001b[1;33m,\u001b[0m \u001b[0mdtype\u001b[0m \u001b[1;33m=\u001b[0m \u001b[1;34m'float32'\u001b[0m\u001b[1;33m)\u001b[0m \u001b[1;32mas\u001b[0m \u001b[0mras_2\u001b[0m\u001b[1;33m:\u001b[0m\u001b[1;33m\u001b[0m\u001b[1;33m\u001b[0m\u001b[0m\n\u001b[0m\u001b[0;32m     19\u001b[0m             \u001b[0mmerged\u001b[0m\u001b[1;33m,\u001b[0m \u001b[0mtrans\u001b[0m \u001b[1;33m=\u001b[0m \u001b[0mmerge\u001b[0m\u001b[1;33m(\u001b[0m\u001b[1;33m[\u001b[0m\u001b[0mras_1\u001b[0m\u001b[1;33m,\u001b[0m \u001b[0mras_2\u001b[0m\u001b[1;33m]\u001b[0m\u001b[1;33m,\u001b[0m \u001b[0mnodata\u001b[0m \u001b[1;33m=\u001b[0m \u001b[0mras_2\u001b[0m\u001b[1;33m.\u001b[0m\u001b[0mnodata\u001b[0m\u001b[1;33m,\u001b[0m \u001b[0mdtype\u001b[0m \u001b[1;33m=\u001b[0m \u001b[1;34m'float32'\u001b[0m\u001b[1;33m)\u001b[0m\u001b[1;33m\u001b[0m\u001b[1;33m\u001b[0m\u001b[0m\n\u001b[0;32m     20\u001b[0m \u001b[1;31m#             merged = np.where(merged == ras_2.nodata, NO_DATA, merged)\u001b[0m\u001b[1;33m\u001b[0m\u001b[1;33m\u001b[0m\u001b[1;33m\u001b[0m\u001b[0m\n",
      "\u001b[1;32mC:\\Anaconda\\envs\\hydro\\lib\\site-packages\\rasterio\\env.py\u001b[0m in \u001b[0;36mwrapper\u001b[1;34m(*args, **kwds)\u001b[0m\n\u001b[0;32m    433\u001b[0m \u001b[1;33m\u001b[0m\u001b[0m\n\u001b[0;32m    434\u001b[0m         \u001b[1;32mwith\u001b[0m \u001b[0menv_ctor\u001b[0m\u001b[1;33m(\u001b[0m\u001b[0msession\u001b[0m\u001b[1;33m=\u001b[0m\u001b[0msession\u001b[0m\u001b[1;33m)\u001b[0m\u001b[1;33m:\u001b[0m\u001b[1;33m\u001b[0m\u001b[1;33m\u001b[0m\u001b[0m\n\u001b[1;32m--> 435\u001b[1;33m             \u001b[1;32mreturn\u001b[0m \u001b[0mf\u001b[0m\u001b[1;33m(\u001b[0m\u001b[1;33m*\u001b[0m\u001b[0margs\u001b[0m\u001b[1;33m,\u001b[0m \u001b[1;33m**\u001b[0m\u001b[0mkwds\u001b[0m\u001b[1;33m)\u001b[0m\u001b[1;33m\u001b[0m\u001b[1;33m\u001b[0m\u001b[0m\n\u001b[0m\u001b[0;32m    436\u001b[0m \u001b[1;33m\u001b[0m\u001b[0m\n\u001b[0;32m    437\u001b[0m     \u001b[1;32mreturn\u001b[0m \u001b[0mwrapper\u001b[0m\u001b[1;33m\u001b[0m\u001b[1;33m\u001b[0m\u001b[0m\n",
      "\u001b[1;32mC:\\Anaconda\\envs\\hydro\\lib\\site-packages\\rasterio\\__init__.py\u001b[0m in \u001b[0;36mopen\u001b[1;34m(fp, mode, driver, width, height, count, crs, transform, dtype, nodata, sharing, **kwargs)\u001b[0m\n\u001b[0;32m    218\u001b[0m         \u001b[1;31m# None.\u001b[0m\u001b[1;33m\u001b[0m\u001b[1;33m\u001b[0m\u001b[1;33m\u001b[0m\u001b[0m\n\u001b[0;32m    219\u001b[0m         \u001b[1;32mif\u001b[0m \u001b[0mmode\u001b[0m \u001b[1;33m==\u001b[0m \u001b[1;34m'r'\u001b[0m\u001b[1;33m:\u001b[0m\u001b[1;33m\u001b[0m\u001b[1;33m\u001b[0m\u001b[0m\n\u001b[1;32m--> 220\u001b[1;33m             \u001b[0ms\u001b[0m \u001b[1;33m=\u001b[0m \u001b[0mDatasetReader\u001b[0m\u001b[1;33m(\u001b[0m\u001b[0mpath\u001b[0m\u001b[1;33m,\u001b[0m \u001b[0mdriver\u001b[0m\u001b[1;33m=\u001b[0m\u001b[0mdriver\u001b[0m\u001b[1;33m,\u001b[0m \u001b[0msharing\u001b[0m\u001b[1;33m=\u001b[0m\u001b[0msharing\u001b[0m\u001b[1;33m,\u001b[0m \u001b[1;33m**\u001b[0m\u001b[0mkwargs\u001b[0m\u001b[1;33m)\u001b[0m\u001b[1;33m\u001b[0m\u001b[1;33m\u001b[0m\u001b[0m\n\u001b[0m\u001b[0;32m    221\u001b[0m         \u001b[1;32melif\u001b[0m \u001b[0mmode\u001b[0m \u001b[1;33m==\u001b[0m \u001b[1;34m\"r+\"\u001b[0m\u001b[1;33m:\u001b[0m\u001b[1;33m\u001b[0m\u001b[1;33m\u001b[0m\u001b[0m\n\u001b[0;32m    222\u001b[0m             s = get_writer_for_path(path, driver=driver)(\n",
      "\u001b[1;32mrasterio\\_base.pyx\u001b[0m in \u001b[0;36mrasterio._base.DatasetBase.__init__\u001b[1;34m()\u001b[0m\n",
      "\u001b[1;31mRasterioIOError\u001b[0m: C:/Users/siepb/Documents/Studie_Hydrology/ThesisGeul/Raw_DEM/DEM_HighRes/Netherlands/Loose_tiles/NoDataNoDataM_68DZ1.TIF: No such file or directory"
     ]
    }
   ],
   "source": [
    "# with rasterio.open(f'{WD_tiles}{small_tiles[0]}', 'r') as ras:\n",
    "#     array = ras.read(1)\n",
    "#     array = np.where(array == ras.nodata, NO_DATA, array)\n",
    "#     with rasterio.open(f'{WD}NL_Mergedfile.tif', \n",
    "#                        'w', \n",
    "#                        driver = 'GTiff',\n",
    "#                        dtype = 'float32',\n",
    "#                        height = ras.height,\n",
    "#                        width = ras.width,\n",
    "#                        count= 1,\n",
    "#                        crs = ras.crs,\n",
    "#                        transform = ras.transform,\n",
    "#                       nodata = NO_DATA) as dst:\n",
    "#         dst.write(array, indexes = 1)\n",
    "        \n",
    "for i in range(1, (len(small_tiles))):\n",
    "    with rasterio.open(f'{WD}NL_Mergedfile.tif', 'r', dtype = 'float32') as ras_1:\n",
    "        with rasterio.open(f'{WD_tiles}NoData{small_tiles[i]}', 'r', dtype = 'float32') as ras_2:\n",
    "            merged, trans = merge([ras_1, ras_2], nodata = ras_2.nodata, dtype = 'float32')\n",
    "#             merged = np.where(merged == ras_2.nodata, NO_DATA, merged)\n",
    "            \n",
    "    with rasterio.open(f'{WD}NL_Mergedfile.tif', \n",
    "                       'w', \n",
    "                       driver = 'GTiff',\n",
    "                       dtype = 'float32',\n",
    "                       height = merged.shape[1],\n",
    "                       width = merged.shape[2],\n",
    "                       count= 1,\n",
    "                       crs = ras_1.crs,\n",
    "                       transform = trans,\n",
    "                       nodata = NO_DATA\n",
    "                      ) as dst:\n",
    "        dst.write(merged)\n",
    "        \n",
    "\n",
    "dst.close"
   ]
  }
 ],
 "metadata": {
  "kernelspec": {
   "display_name": "Python 3 (ipykernel)",
   "language": "python",
   "name": "python3"
  },
  "language_info": {
   "codemirror_mode": {
    "name": "ipython",
    "version": 3
   },
   "file_extension": ".py",
   "mimetype": "text/x-python",
   "name": "python",
   "nbconvert_exporter": "python",
   "pygments_lexer": "ipython3",
   "version": "3.8.10"
  }
 },
 "nbformat": 4,
 "nbformat_minor": 5
}
