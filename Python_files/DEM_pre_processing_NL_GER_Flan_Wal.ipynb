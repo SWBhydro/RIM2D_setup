{
 "cells": [
  {
   "cell_type": "code",
   "execution_count": 1,
   "id": "32090bca",
   "metadata": {},
   "outputs": [],
   "source": [
    "import numpy as np\n",
    "import os\n",
    "import glob\n",
    "import matplotlib.pyplot as plt\n",
    "\n",
    "import rasterio\n",
    "from rasterio.enums import Resampling\n",
    "from rasterio.merge import merge\n",
    "from rasterio.plot import show\n",
    "from rasterio.fill import fillnodata\n",
    "from rasterio.warp import reproject, Resampling, calculate_default_transform\n",
    "from rasterio.plot import show"
   ]
  },
  {
   "cell_type": "code",
   "execution_count": 2,
   "id": "13758f58",
   "metadata": {},
   "outputs": [],
   "source": [
    "# WD = 'C:/Users/siepb/Documents/Studie_Hydrology/ThesisGeul/'\n",
    "WD_INPUT_25m = 'C:/Users/siepb/Documents/Studie_Hydrology/ThesisGeul/Inputmaps_25m/'\n",
    "WD_INPUT_8m = 'C:/Users/siepb/Documents/Studie_Hydrology/ThesisGeul/Inputmaps_8m/'\n",
    "\n",
    "dem_path_25m = 'DEM_clipped_25m.asc'\n",
    "\n",
    "SimDomain_path_8m = 'SimDomain_8m.asc'\n",
    "\n",
    "WD_RESAMPLED = 'C:/Users/siepb/Documents/Studie_Hydrology/ThesisGeul/Raw_DEM/DEM_HighRes/Working_folder/'\n",
    "WD_INPUT = 'C:/Users/siepb/Documents/Studie_Hydrology/ThesisGeul/Inputmaps_8m/'\n",
    "\n",
    "NO_DATA = -9999"
   ]
  },
  {
   "cell_type": "markdown",
   "id": "d9721628",
   "metadata": {},
   "source": [
    "## Creating an empty grid with 8 grid cells"
   ]
  },
  {
   "cell_type": "code",
   "execution_count": 3,
   "id": "c9c22e42",
   "metadata": {},
   "outputs": [],
   "source": [
    "# The downscale factor is 5 because the used DEM is 25 m and we want to go 8.33 m (25/3 = 8.33)\n",
    "downscale_factor = 3\n",
    "\n",
    "# with rasterio.open(f'{WD_INPUT_25m}{dem_path_25m}') as dst:\n",
    "with rasterio.open(f'{WD_INPUT_25m}{dem_path_25m}') as dst:\n",
    "\n",
    "    # resample data to target shape\n",
    "    data = dst.read(\n",
    "        out_shape=(\n",
    "            dst.count,\n",
    "            int(dst.height * downscale_factor),\n",
    "            int(dst.width * downscale_factor)\n",
    "        ),\n",
    "        resampling=Resampling.bilinear\n",
    "    )\n",
    "\n",
    "    # scale image transform\n",
    "    transform = dst.transform * dst.transform.scale(\n",
    "        (dst.width / data.shape[-1]),\n",
    "        (dst.height / data.shape[-2])\n",
    "    )\n",
    "    \n",
    "with rasterio.open(\n",
    "    f'{WD_INPUT_8m}{SimDomain_path_8m}',\n",
    "    'w',\n",
    "    driver= 'AAIGrid',\n",
    "    dtype = 'float32',\n",
    "    crs = dst.crs,\n",
    "    transform = transform,\n",
    "    height = data.shape[1],\n",
    "    width = data.shape[2],\n",
    "    count = 1,\n",
    "    nodata = NO_DATA) as dst:\n",
    "    dst.write(data * 0)         # times zero to create empty grid"
   ]
  },
  {
   "cell_type": "markdown",
   "id": "6619b7dd",
   "metadata": {},
   "source": [
    "## Setting the project characteristics to be used from the simulation domain"
   ]
  },
  {
   "cell_type": "code",
   "execution_count": 4,
   "id": "8592e59a",
   "metadata": {},
   "outputs": [],
   "source": [
    "with rasterio.open(f'{WD_INPUT_8m}{SimDomain_path_8m}') as proj_outline:\n",
    "    PROJECT_CRS = proj_outline.crs\n",
    "    PROJECT_TRANSFORM = proj_outline.transform\n",
    "    PROJECT_WIDTH = proj_outline.width\n",
    "    PROJECT_HEIGHT = proj_outline.height\n",
    "    PROJECT_SHAPE = proj_outline.shape\n",
    "    PROJECT_BOUNDS = proj_outline.bounds\n",
    "proj_outline.close()"
   ]
  },
  {
   "cell_type": "markdown",
   "id": "41f4c591",
   "metadata": {},
   "source": [
    "### Function for resampling"
   ]
  },
  {
   "cell_type": "code",
   "execution_count": 5,
   "id": "952f257d",
   "metadata": {},
   "outputs": [],
   "source": [
    "def Resample(Input_TIF, Output_ASC):\n",
    "\n",
    "    with rasterio.open(Input_TIF, 'r') as src_proj:\n",
    "        with rasterio.open(Output_ASC, \n",
    "                           'w', \n",
    "                           driver = 'AAIGrid', \n",
    "                           dtype = 'float32',\n",
    "                            crs = PROJECT_CRS,\n",
    "                            transform = PROJECT_TRANSFORM,\n",
    "                            height = PROJECT_HEIGHT,\n",
    "                            width = PROJECT_WIDTH,\n",
    "                            count = 1,\n",
    "                            nodata = NO_DATA) as dst_proj:\n",
    "                                                reproject(source = rasterio.band(src_proj, 1),\n",
    "                                                destination = rasterio.band(dst_proj, 1),\n",
    "                                                src_transform = src_proj.transform,\n",
    "                                                src_crs = src_proj.crs,\n",
    "                                                dst_transform = PROJECT_TRANSFORM,\n",
    "                                                dst_crs = PROJECT_CRS,\n",
    "                                                resampling = Resampling.average,\n",
    "                                                bounds = PROJECT_BOUNDS)   \n",
    "\n",
    "Input_Wallonie = 'C:/Users/siepb/Documents/Studie_Hydrology/ThesisGeul/Raw_DEM/DEM_HighRes/Belgium/Wallonie/RELIEF_WALLONIE_MNT_2013_2014.tif'\n",
    "Input_Flanders = 'C:/Users/siepb/Documents/Studie_Hydrology/ThesisGeul/Raw_DEM/DEM_HighRes/Belgium/Flanders/GeoTIFF/DHMVIIDTMRAS1m_k34.tif'\n",
    "Input_Netherlands = 'C:/Users/siepb/Documents/Studie_Hydrology/ThesisGeul/Raw_DEM/DEM_HighRes/Netherlands/NL_Mergedfile.tif'\n",
    "Input_Germany = 'C:/Users/siepb/Documents/Studie_Hydrology/ThesisGeul/Raw_DEM/DEM_HighRes/Germany/GER_mergedfile.tif'\n",
    "\n",
    "Output_Wallonie = f'{WD_RESAMPLED}Wallonie_Resamp.asc'\n",
    "Output_Flanders = f'{WD_RESAMPLED}Flanders_Resamp.asc'\n",
    "Output_Netherlands = f'{WD_RESAMPLED}Netherlands_Resamp.asc'\n",
    "Output_Germany = f'{WD_RESAMPLED}Germany_Resamp.asc'"
   ]
  },
  {
   "cell_type": "code",
   "execution_count": 6,
   "id": "c417578b",
   "metadata": {},
   "outputs": [],
   "source": [
    "Resample(Input_Wallonie, Output_Wallonie)\n",
    "Resample(Input_Flanders, Output_Flanders)\n",
    "Resample(Input_Netherlands, Output_Netherlands)\n",
    "Resample(Input_Germany, Output_Germany)"
   ]
  },
  {
   "cell_type": "markdown",
   "id": "a7cf554c",
   "metadata": {},
   "source": [
    "### Adjusting all rasters to the same reference height as the dutch DEM\n",
    "\n",
    "The DEM data of each dem is cut out at the place where it overlaps with the DEM of Netherlands. The mean difference in this region is calculated and then summed with whole raster to adjusted it to the reference height of the raster of the Netherlands\n",
    "\n",
    "IMPORTANT\n",
    "NO_DATA must be a large negative number for this to work. Preferably this is -9999 (which it should be\n",
    "anyway at this point to be able to run in the RIM2D model)"
   ]
  },
  {
   "cell_type": "code",
   "execution_count": 7,
   "id": "b851a6fe",
   "metadata": {},
   "outputs": [
    {
     "name": "stdout",
     "output_type": "stream",
     "text": [
      "adjustment_number : -2.421606\n",
      "adjustment_number : -2.3338041\n",
      "adjustment_number : -0.058213618\n"
     ]
    }
   ],
   "source": [
    "def Adjusting_Ras_Ref(ref_ras, adjust_ras, output_adjust_ras):\n",
    "    with rasterio.open(ref_ras) as dst_ref:\n",
    "        with rasterio.open(adjust_ras) as dst_adjust:\n",
    "            arr_ref = dst_ref.read(1)\n",
    "            arr_adjust = dst_adjust.read(1)\n",
    "            \n",
    "            ref_plus_adjust = arr_ref + arr_adjust\n",
    "            \n",
    "            ref_clip = np.where(ref_plus_adjust > 0, arr_ref, NO_DATA)\n",
    "            adjust_clip = np.where(ref_plus_adjust > 0, arr_adjust, -NO_DATA)\n",
    "            difference_ref_adjust = ref_clip - adjust_clip\n",
    "            \n",
    "            adjustment_number = np.mean(difference_ref_adjust[difference_ref_adjust > NO_DATA])\n",
    "            print('adjustment_number : ' + str(adjustment_number))\n",
    "            \n",
    "            new_arr_adjust = np.where(arr_adjust > NO_DATA, (arr_adjust + adjustment_number), NO_DATA)\n",
    "            \n",
    "            kwargs = dst_adjust.profile\n",
    "            kwargs.update(driver = 'AAIGrid')\n",
    "            \n",
    "    with rasterio.open(output_adjust_ras, 'w', **kwargs) as dst:\n",
    "        dst.write(new_arr_adjust, indexes = 1)\n",
    "\n",
    "# Filenames\n",
    "# Input\n",
    "Neth_Ref = 'Netherlands_Resamp.asc' \n",
    "\n",
    "# Output \n",
    "Wal_Adj = 'Wallonie_Adjusted.asc'\n",
    "Flan_Adj = 'Flanders_Adjusted.asc'\n",
    "Ger_Adj = 'Germany_Adjusted.asc'\n",
    "\n",
    "# Paths\n",
    "# Input\n",
    "Neth_Ref_Path = f'{WD_RESAMPLED}{Neth_Ref}'\n",
    "# Output\n",
    "Out_Wal_Adj_Path = f'{WD_RESAMPLED}{Wal_Adj}'\n",
    "Out_Flan_Adj_Path = f'{WD_RESAMPLED}{Flan_Adj}'\n",
    "Out_Ger_Adj_Path = f'{WD_RESAMPLED}{Ger_Adj}'\n",
    "       \n",
    "# # Running funtion\n",
    "Adjusting_Ras_Ref(Neth_Ref_Path, Output_Wallonie, Out_Wal_Adj_Path)\n",
    "Adjusting_Ras_Ref(Neth_Ref_Path, Output_Flanders, Out_Flan_Adj_Path)\n",
    "Adjusting_Ras_Ref(Neth_Ref_Path, Output_Germany, Out_Ger_Adj_Path)"
   ]
  },
  {
   "cell_type": "markdown",
   "id": "ad0b579d",
   "metadata": {},
   "source": [
    "### Merging DEMs"
   ]
  },
  {
   "cell_type": "code",
   "execution_count": 8,
   "id": "4c159cfb",
   "metadata": {},
   "outputs": [],
   "source": [
    "Paths = [Neth_Ref_Path, Out_Wal_Adj_Path, Out_Flan_Adj_Path, Out_Ger_Adj_Path]\n",
    "\n",
    "files_to_merge = []\n",
    "\n",
    "for i in Paths:\n",
    "    dst = rasterio.open(i)\n",
    "    files_to_merge.append(dst)"
   ]
  },
  {
   "cell_type": "code",
   "execution_count": 9,
   "id": "dc203d40",
   "metadata": {},
   "outputs": [],
   "source": [
    "mosaic, transform = merge(files_to_merge)\n",
    "\n",
    "# show(mosaic, cmap='terrain')\n",
    "\n",
    "kwargs = dst.meta.copy()\n",
    "kwargs.update({'driver': 'GTiff',\n",
    "                  'height': mosaic.shape[1],\n",
    "                  'width': mosaic.shape[2],\n",
    "                  'transform': transform,\n",
    "                  'crs': PROJECT_CRS\n",
    "                  }\n",
    "                 )\n",
    "\n",
    "with rasterio.open(f'{WD_RESAMPLED}Merged_Open_Gaps.tif', \n",
    "                   'w',\n",
    "                  **kwargs) as dst:\n",
    "    dst.write(mosaic)"
   ]
  },
  {
   "cell_type": "markdown",
   "id": "e5bbda50",
   "metadata": {},
   "source": [
    "### Filling gaps (in Dutch DEM)"
   ]
  },
  {
   "cell_type": "code",
   "execution_count": 11,
   "id": "1e7aacfa",
   "metadata": {},
   "outputs": [],
   "source": [
    "def FillGaps(WithGaps, WithoutGaps): \n",
    "\n",
    "    with rasterio.open(WithGaps) as src:\n",
    "        kwargs = src.profile\n",
    "        arr = src.read(1)\n",
    "        arr_filled = fillnodata(arr, mask=src.read_masks(1), max_search_distance=35, smoothing_iterations=0)\n",
    "        \n",
    "        kwargs.update(driver = 'AAIGrid')\n",
    "        \n",
    "    with rasterio.open(WithoutGaps, 'w', **kwargs) as dest:\n",
    "        dest.write_band(1, arr_filled)\n",
    "\n",
    "        \n",
    "# # This is to close gaps in the Netherlands DEM after merging the different DEMS. One of the FillGaps below works\n",
    "# WithGaps = f'C:/Users/siepb/Documents/Studie_Hydrology/ThesisGeul/Raw_DEM/DEM_HighRes/Working_folder/Merged_Open_Gaps.tif'\n",
    "# WithoutGaps = f'C:/Users/siepb/Documents/Studie_Hydrology/ThesisGeul/Raw_DEM/DEM_HighRes/Merged_Closed_Gaps.tif'\n",
    "# FillGaps(f'{WD_RESAMPLED}Merged_Open_Gaps.tif', f'{WD_RESAMPLED}Merged_Closed_Gaps.tif')\n",
    "# FillGaps(Output_Netherlands, WithoutGapsNL)\n",
    "\n",
    "# # This is to fill the gaps in the Netherlands DEM before merging        \n",
    "# WithGaps = 'C:/Users/siepb/Documents/Studie_Hydrology/ThesisGeul/Raw_DEM/DEM_HighRes/Netherlands/NL_Mergedfile.tif'\n",
    "# WithoutGaps = 'C:/Users/siepb/Documents/Studie_Hydrology/ThesisGeul/Raw_DEM/DEM_HighRes/Netherlands/NL_Mergedfile_FilledGaps.tif'               \n",
    "# FillGaps(WithGaps, WithoutGaps)\n",
    "\n",
    "# This i to fill gaps in the mergad raster\n",
    "FillGaps(f'{WD_RESAMPLED}Merged_Open_Gaps.tif', f'{WD_INPUT}Merged_Closed_Gaps_8m.asc') # Saving this file in input because need it there"
   ]
  },
  {
   "cell_type": "markdown",
   "id": "94e29262",
   "metadata": {},
   "source": [
    "### Old stuff"
   ]
  },
  {
   "cell_type": "code",
   "execution_count": null,
   "id": "6bfc3cca",
   "metadata": {},
   "outputs": [],
   "source": [
    "########\n",
    "# Ned_plus_Wal = arr_Ned_OpenGaps+arr_Wal\n",
    "# Ned_clip = np.where(Ned_plus_Wal>0, arr_Ned_OpenGaps, NO_DATA) \n",
    "# Wal_clip = np.where(Ned_plus_Wal>0, arr_Wal, -NO_DATA) # Negative NO_DATA so when extracting Wal_Clip from Ned_Clip below, the Nodata value becomes -19998 and not 0.\n",
    "\n",
    "# Difference_Ned_Wal = Ned_clip - Wal_clip\n",
    "# AdjustmentNumber = np.mean(Difference_Ned_Wal[Difference_Ned_Wal > NO_DATA])\n",
    "# print(AdjustmentNumber)"
   ]
  },
  {
   "cell_type": "code",
   "execution_count": 56,
   "id": "00ff8c7b",
   "metadata": {},
   "outputs": [],
   "source": [
    "# # The filled gaps only worked with .tif files, so this is to save the .tif file as .asc file\n",
    "# with rasterio.open('C:/Users/siepb/Documents/Studie_Hydrology/ThesisGeul/Raw_DEM/DEM_HighRes/Working_folderNetherlands_Resamp_5mresamp.tif') as dst:\n",
    "#     kwargs = dst.profile\n",
    "#     kwargs.update(driver = 'AAIGrid')\n",
    "    \n",
    "#     with rasterio.open(Output_Netherlands, 'w', **kwargs) as new_dst:\n",
    "#         new_dst.write(dst.read(1), indexes = 1)"
   ]
  },
  {
   "cell_type": "code",
   "execution_count": null,
   "id": "5e08d746",
   "metadata": {},
   "outputs": [],
   "source": [
    "# # Other way of getting pats\n",
    "# search_crit = '*Resamp.asc' \n",
    "# search_path = os.path.join(WD_RESAMPLED, search_crit)\n",
    "# Paths = glob.glob(search_path)"
   ]
  }
 ],
 "metadata": {
  "kernelspec": {
   "display_name": "Python 3 (ipykernel)",
   "language": "python",
   "name": "python3"
  },
  "language_info": {
   "codemirror_mode": {
    "name": "ipython",
    "version": 3
   },
   "file_extension": ".py",
   "mimetype": "text/x-python",
   "name": "python",
   "nbconvert_exporter": "python",
   "pygments_lexer": "ipython3",
   "version": "3.8.10"
  }
 },
 "nbformat": 4,
 "nbformat_minor": 5
}
